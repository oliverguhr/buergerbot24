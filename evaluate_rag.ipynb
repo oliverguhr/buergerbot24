{
 "cells": [
  {
   "cell_type": "code",
   "execution_count": 56,
   "id": "9891b51e",
   "metadata": {},
   "outputs": [],
   "source": [
    "import requests\n",
    "from typing import Dict, Any\n",
    "def chat_with_model(token: str, question: str) -> Dict[str, Any]:\n",
    "    \"\"\"\n",
    "    Send a question to the chat model and return the response.\n",
    "    \n",
    "    Args:\n",
    "        token: API token for authentication\n",
    "        question: The question to ask the model\n",
    "        \n",
    "    Returns:\n",
    "        dict: The JSON response from the API\n",
    "    \"\"\"\n",
    "    url = 'http://localhost:3000/api/chat/completions'\n",
    "    headers = {\n",
    "        'Authorization': f'Bearer {token}',\n",
    "        'Content-Type': 'application/json'\n",
    "    }\n",
    "    data = {\n",
    "        \"model\": \"gemma3:27b\",\n",
    "        \"messages\": [\n",
    "            {\n",
    "                \"role\": \"user\",\n",
    "                \"content\": question,\n",
    "                \"system\": \"\"\n",
    "            }\n",
    "        ],\n",
    "        \"files\": [{\"type\": \"collection\", \"id\": \"a0875df9-e60e-49b2-b6da-e256dca2d4f6\"}]\n",
    "    }\n",
    "\n",
    "    #print (\"Query: \")\n",
    "    #print (data)\n",
    "    \n",
    "    response = requests.post(url, headers=headers, json=data, timeout=60)\n",
    "    response.raise_for_status()\n",
    "    return response.json()[\"choices\"][0][\"message\"][\"content\"]"
   ]
  },
  {
   "cell_type": "code",
   "execution_count": 57,
   "id": "fa17f7c0",
   "metadata": {},
   "outputs": [],
   "source": [
    "token = \"sk-317f069c260446b5bf3fb8c4beb91e80\""
   ]
  },
  {
   "cell_type": "code",
   "execution_count": 58,
   "id": "ec736ac2",
   "metadata": {},
   "outputs": [
    {
     "name": "stdout",
     "output_type": "stream",
     "text": [
      "Seit dem 01.07.2012 ist es in Deutschland möglich, zwei Fahrzeuge abwechselnd mit ein und demselben Nummernschild zu fahren [2]. Beide Fahrzeuge müssen jedoch der gleichen Fahrzeugklasse angehören und die gleiche Kennzeichengröße haben [2].\n"
     ]
    }
   ],
   "source": [
    "result = chat_with_model(token, \"Seit wann ist es in Deutschland möglich, zwei Fahrzeuge abwechselnd mit ein und demselben Nummernschild zu fahren?\")  # Example question\n",
    "\n",
    "print(result)\n",
    "\n"
   ]
  },
  {
   "cell_type": "code",
   "execution_count": 59,
   "id": "6ba9b519",
   "metadata": {},
   "outputs": [
    {
     "name": "stdout",
     "output_type": "stream",
     "text": [
      "Loaded 195 question-answer pairs\n"
     ]
    },
    {
     "name": "stderr",
     "output_type": "stream",
     "text": [
      "Processing Q&A pairs: 100%|██████████| 195/195 [21:38<00:00,  6.66s/it]"
     ]
    },
    {
     "name": "stdout",
     "output_type": "stream",
     "text": [
      "\n",
      "Created 195 SingleTurnSample objects\n"
     ]
    },
    {
     "name": "stderr",
     "output_type": "stream",
     "text": [
      "\n"
     ]
    }
   ],
   "source": [
    "# load qa pair from question file\n",
    "# for each question, call chat_with_model and map to SingleTurnSample\n",
    "import json\n",
    "from pathlib import Path\n",
    "from typing import List\n",
    "from tqdm import tqdm\n",
    "from ragas.dataset_schema import SingleTurnSample\n",
    "\n",
    "# Load question-answer pairs from JSON file\n",
    "qa_file = Path(\"question_answer_pairs.json\")\n",
    "with open(qa_file, 'r', encoding='utf-8') as f:\n",
    "    qa_pairs = json.load(f)\n",
    "\n",
    "print(f\"Loaded {len(qa_pairs)} question-answer pairs\")\n",
    "\n",
    "# Create SingleTurnSample objects\n",
    "samples: List[SingleTurnSample] = []\n",
    "\n",
    "# Process each Q&A pair\n",
    "for qa in tqdm(qa_pairs, desc=\"Processing Q&A pairs\"):  # Start with first 5 for testing\n",
    "    try:\n",
    "        # Get response from the model\n",
    "        model_response = chat_with_model(token, qa[\"question\"])\n",
    "        \n",
    "        # Create SingleTurnSample\n",
    "        sample = SingleTurnSample(\n",
    "            user_input=qa[\"question\"],\n",
    "            response=model_response,\n",
    "            reference=qa[\"answer\"]\n",
    "        )\n",
    "        samples.append(sample)\n",
    "        \n",
    "    except Exception as e:\n",
    "        print(f\"Error processing question: {qa['question'][:50]}... - {e}\")\n",
    "\n",
    "print(f\"\\nCreated {len(samples)} SingleTurnSample objects\")"
   ]
  },
  {
   "cell_type": "code",
   "execution_count": 60,
   "id": "f4cf590e",
   "metadata": {},
   "outputs": [
    {
     "name": "stdout",
     "output_type": "stream",
     "text": [
      "{'reference': 'Für Urkunden des Sächsischen Staatsministeriums der Justiz ist '\n",
      "              'das Sächsisches Staatsministerium der Justiz zuständig. Für '\n",
      "              'Urkunden der Landgerichte und ihrer Gerichte, sowie alle '\n",
      "              'anderen Gerichte und Notare im jeweiligen Landgerichtsbezirk '\n",
      "              'sind die Präsidenten der Landgerichte zuständig.',\n",
      " 'response': 'Wenn eine Urkunde von Behörden des Freistaates Sachsen aus dem '\n",
      "             'Bereich der Justiz ausgestellt wurde, ist das Sächsische '\n",
      "             'Staatsministerium der Justiz [1] oder die Präsidenten der '\n",
      "             'Landgerichte [1] zuständig für die Erteilung einer Apostille.',\n",
      " 'user_input': 'Welche Behörde ist für die Erteilung einer Apostille '\n",
      "               'zuständig, wenn eine Urkunde von Behörden des Freistaates '\n",
      "               'Sachsen aus dem Bereich der Justiz ausgestellt wurde?'}\n"
     ]
    }
   ],
   "source": [
    "\n",
    "## pretty print the first sample\n",
    "from pprint import pprint\n",
    "pprint(samples[0].to_dict())  # Assuming SingleTurnSample has a to_dict method\n"
   ]
  },
  {
   "cell_type": "code",
   "execution_count": null,
   "id": "8002ce0e",
   "metadata": {},
   "outputs": [],
   "source": [
    "from langchain_openai import ChatOpenAI\n",
    "from ragas.llms import LangchainLLMWrapper\n",
    "\n",
    "    # Adjust the URL as needed\n",
    "    \n",
    "evaluator_llm = LangchainLLMWrapper(ChatOpenAI(model=\"gemma3:27b\", base_url='http://185.128.119.215:11434/v1', api_key=\"ollama\" ))"
   ]
  },
  {
   "cell_type": "code",
   "execution_count": 62,
   "id": "ea178e37",
   "metadata": {},
   "outputs": [
    {
     "data": {
      "text/plain": [
       "'\\nfor sample in tqdm(samples, desc=\"Scoring samples\"):\\n    try:\\n        # Score each sample\\n        score = await scorer.single_turn_ascore(sample)\\n        #sample.score = score  # Assuming SingleTurnSample has a score attribute\\n        pprint(sample.to_dict())\\n        print(score)\\n        print(\"---\")\\n\\n    except Exception as e:\\n        print(f\"Error scoring sample: {sample.user_input[:50]}... - {e}\")\\n#score = await scorer.single_turn_ascore(sample)\\n'"
      ]
     },
     "execution_count": 62,
     "metadata": {},
     "output_type": "execute_result"
    }
   ],
   "source": [
    "from ragas.metrics import AnswerAccuracy\n",
    "scorer = AnswerAccuracy(llm=evaluator_llm) # evaluator_llm wrapped with ragas LLM Wrapper\n",
    "\n",
    "\"\"\"\n",
    "for sample in tqdm(samples, desc=\"Scoring samples\"):\n",
    "    try:\n",
    "        # Score each sample\n",
    "        score = await scorer.single_turn_ascore(sample)\n",
    "        #sample.score = score  # Assuming SingleTurnSample has a score attribute\n",
    "        pprint(sample.to_dict())\n",
    "        print(score)\n",
    "        print(\"---\")\n",
    "        \n",
    "    except Exception as e:\n",
    "        print(f\"Error scoring sample: {sample.user_input[:50]}... - {e}\")\n",
    "#score = await scorer.single_turn_ascore(sample)\n",
    "\"\"\""
   ]
  },
  {
   "cell_type": "code",
   "execution_count": 63,
   "id": "b52f0ba0",
   "metadata": {},
   "outputs": [
    {
     "name": "stderr",
     "output_type": "stream",
     "text": [
      "Evaluating: 100%|██████████| 195/195 [03:17<00:00,  1.01s/it]\n"
     ]
    },
    {
     "data": {
      "text/plain": [
       "{'nv_accuracy': 0.6090}"
      ]
     },
     "execution_count": 63,
     "metadata": {},
     "output_type": "execute_result"
    }
   ],
   "source": [
    "from ragas import evaluate\n",
    "from ragas import SingleTurnSample, EvaluationDataset\n",
    "\n",
    "dataset = EvaluationDataset(samples=samples)\n",
    "\n",
    "results = evaluate(dataset, metrics=[scorer])\n",
    "results"
   ]
  },
  {
   "cell_type": "code",
   "execution_count": 75,
   "id": "111b8bc2",
   "metadata": {},
   "outputs": [
    {
     "data": {
      "text/html": [
       "<div>\n",
       "<style scoped>\n",
       "    .dataframe tbody tr th:only-of-type {\n",
       "        vertical-align: middle;\n",
       "    }\n",
       "\n",
       "    .dataframe tbody tr th {\n",
       "        vertical-align: top;\n",
       "    }\n",
       "\n",
       "    .dataframe thead th {\n",
       "        text-align: right;\n",
       "    }\n",
       "</style>\n",
       "<table border=\"1\" class=\"dataframe\">\n",
       "  <thead>\n",
       "    <tr style=\"text-align: right;\">\n",
       "      <th></th>\n",
       "      <th>user_input</th>\n",
       "      <th>response</th>\n",
       "      <th>reference</th>\n",
       "      <th>nv_accuracy</th>\n",
       "    </tr>\n",
       "  </thead>\n",
       "  <tbody>\n",
       "    <tr>\n",
       "      <th>0</th>\n",
       "      <td>Welche Behörde ist für die Erteilung einer Apo...</td>\n",
       "      <td>Wenn eine Urkunde von Behörden des Freistaates...</td>\n",
       "      <td>Für Urkunden des Sächsischen Staatsministerium...</td>\n",
       "      <td>0.75</td>\n",
       "    </tr>\n",
       "    <tr>\n",
       "      <th>1</th>\n",
       "      <td>Unter welchen Rufnummern stehen Beraterinnen u...</td>\n",
       "      <td>Beraterinnen und Berater stehen in Sachsen run...</td>\n",
       "      <td>Sie stehen unter den einheitlichen Rufnummern ...</td>\n",
       "      <td>0.25</td>\n",
       "    </tr>\n",
       "    <tr>\n",
       "      <th>2</th>\n",
       "      <td>Welche Gewerbe müssen in Deutschland eine beso...</td>\n",
       "      <td>Gewerbe, die nicht zu den erlaubnisfreien Gewe...</td>\n",
       "      <td>Ausnahme von den erlaubnisfreien Gewerben bild...</td>\n",
       "      <td>0.50</td>\n",
       "    </tr>\n",
       "    <tr>\n",
       "      <th>3</th>\n",
       "      <td>Welche Personenkreise sind an die Betreuungsve...</td>\n",
       "      <td>An die Betreuungsverfügung sind sowohl das zus...</td>\n",
       "      <td>Sowohl der von Ihnen benannte Betreuer als auc...</td>\n",
       "      <td>0.75</td>\n",
       "    </tr>\n",
       "    <tr>\n",
       "      <th>4</th>\n",
       "      <td>Wann sollten Sie sich bei der Bundesagentur fü...</td>\n",
       "      <td>Sobald absehbar ist, dass Sie nach der Ausbild...</td>\n",
       "      <td>Sobald absehbar ist, dass Sie nach der Ausbild...</td>\n",
       "      <td>1.00</td>\n",
       "    </tr>\n",
       "    <tr>\n",
       "      <th>...</th>\n",
       "      <td>...</td>\n",
       "      <td>...</td>\n",
       "      <td>...</td>\n",
       "      <td>...</td>\n",
       "    </tr>\n",
       "    <tr>\n",
       "      <th>190</th>\n",
       "      <td>Welche Institutionen oder Personengruppen werd...</td>\n",
       "      <td>Im Insolvenzverfahren werden die Interessen de...</td>\n",
       "      <td>Die Interessen der Gläubiger werden im Insolve...</td>\n",
       "      <td>1.00</td>\n",
       "    </tr>\n",
       "    <tr>\n",
       "      <th>191</th>\n",
       "      <td>Gemäß welchem Paragraphen des Sozialgesetzbuch...</td>\n",
       "      <td>I am sorry, but the provided context does not ...</td>\n",
       "      <td>Die Betreuung und Unterstützung wird als erzie...</td>\n",
       "      <td>0.00</td>\n",
       "    </tr>\n",
       "    <tr>\n",
       "      <th>192</th>\n",
       "      <td>Was sind die Verpflichtungen des Käufers und d...</td>\n",
       "      <td>Beim Kaufvertrag verpflichtet sich der Käufer,...</td>\n",
       "      <td>Beim Kaufvertrag verpflichtet sich der Käufer ...</td>\n",
       "      <td>1.00</td>\n",
       "    </tr>\n",
       "    <tr>\n",
       "      <th>193</th>\n",
       "      <td>Welche Formate können Marken haben?</td>\n",
       "      <td>Marken können folgende Formate haben: Wortmark...</td>\n",
       "      <td>Marken können folgende Form haben: Wortmarken,...</td>\n",
       "      <td>1.00</td>\n",
       "    </tr>\n",
       "    <tr>\n",
       "      <th>194</th>\n",
       "      <td>Welche drei Rollen können Akteure im Technolog...</td>\n",
       "      <td>Akteure im Technologietransfer können die Roll...</td>\n",
       "      <td>Die Akteure im Technologietransfer können der ...</td>\n",
       "      <td>1.00</td>\n",
       "    </tr>\n",
       "  </tbody>\n",
       "</table>\n",
       "<p>195 rows × 4 columns</p>\n",
       "</div>"
      ],
      "text/plain": [
       "                                            user_input  \\\n",
       "0    Welche Behörde ist für die Erteilung einer Apo...   \n",
       "1    Unter welchen Rufnummern stehen Beraterinnen u...   \n",
       "2    Welche Gewerbe müssen in Deutschland eine beso...   \n",
       "3    Welche Personenkreise sind an die Betreuungsve...   \n",
       "4    Wann sollten Sie sich bei der Bundesagentur fü...   \n",
       "..                                                 ...   \n",
       "190  Welche Institutionen oder Personengruppen werd...   \n",
       "191  Gemäß welchem Paragraphen des Sozialgesetzbuch...   \n",
       "192  Was sind die Verpflichtungen des Käufers und d...   \n",
       "193                Welche Formate können Marken haben?   \n",
       "194  Welche drei Rollen können Akteure im Technolog...   \n",
       "\n",
       "                                              response  \\\n",
       "0    Wenn eine Urkunde von Behörden des Freistaates...   \n",
       "1    Beraterinnen und Berater stehen in Sachsen run...   \n",
       "2    Gewerbe, die nicht zu den erlaubnisfreien Gewe...   \n",
       "3    An die Betreuungsverfügung sind sowohl das zus...   \n",
       "4    Sobald absehbar ist, dass Sie nach der Ausbild...   \n",
       "..                                                 ...   \n",
       "190  Im Insolvenzverfahren werden die Interessen de...   \n",
       "191  I am sorry, but the provided context does not ...   \n",
       "192  Beim Kaufvertrag verpflichtet sich der Käufer,...   \n",
       "193  Marken können folgende Formate haben: Wortmark...   \n",
       "194  Akteure im Technologietransfer können die Roll...   \n",
       "\n",
       "                                             reference  nv_accuracy  \n",
       "0    Für Urkunden des Sächsischen Staatsministerium...         0.75  \n",
       "1    Sie stehen unter den einheitlichen Rufnummern ...         0.25  \n",
       "2    Ausnahme von den erlaubnisfreien Gewerben bild...         0.50  \n",
       "3    Sowohl der von Ihnen benannte Betreuer als auc...         0.75  \n",
       "4    Sobald absehbar ist, dass Sie nach der Ausbild...         1.00  \n",
       "..                                                 ...          ...  \n",
       "190  Die Interessen der Gläubiger werden im Insolve...         1.00  \n",
       "191  Die Betreuung und Unterstützung wird als erzie...         0.00  \n",
       "192  Beim Kaufvertrag verpflichtet sich der Käufer ...         1.00  \n",
       "193  Marken können folgende Form haben: Wortmarken,...         1.00  \n",
       "194  Die Akteure im Technologietransfer können der ...         1.00  \n",
       "\n",
       "[195 rows x 4 columns]"
      ]
     },
     "execution_count": 75,
     "metadata": {},
     "output_type": "execute_result"
    }
   ],
   "source": [
    "df = results.to_pandas()\n",
    "\n",
    "df"
   ]
  },
  {
   "cell_type": "code",
   "execution_count": 79,
   "id": "fae66209",
   "metadata": {},
   "outputs": [],
   "source": [
    "# filter out samples with score < 0.5\n",
    "filtered_df = df[df['nv_accuracy'] <= 0.5]\n",
    "filtered_df.head()\n",
    "\n",
    "# Save the filtered results to a CSV file\n",
    "filtered_df.to_html(\"filtered_results.html\", index=False)"
   ]
  }
 ],
 "metadata": {
  "kernelspec": {
   "display_name": ".venv",
   "language": "python",
   "name": "python3"
  },
  "language_info": {
   "codemirror_mode": {
    "name": "ipython",
    "version": 3
   },
   "file_extension": ".py",
   "mimetype": "text/x-python",
   "name": "python",
   "nbconvert_exporter": "python",
   "pygments_lexer": "ipython3",
   "version": "3.13.4"
  }
 },
 "nbformat": 4,
 "nbformat_minor": 5
}
